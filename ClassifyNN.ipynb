{
  "nbformat": 4,
  "nbformat_minor": 0,
  "metadata": {
    "colab": {
      "provenance": [],
      "authorship_tag": "ABX9TyOEU62iVuhBO1XfuSrNinGP",
      "include_colab_link": true
    },
    "kernelspec": {
      "name": "python3",
      "display_name": "Python 3"
    },
    "language_info": {
      "name": "python"
    }
  },
  "cells": [
    {
      "cell_type": "markdown",
      "metadata": {
        "id": "view-in-github",
        "colab_type": "text"
      },
      "source": [
        "<a href=\"https://colab.research.google.com/github/DanilAra7/C1/blob/main/ClassifyNN.ipynb\" target=\"_parent\"><img src=\"https://colab.research.google.com/assets/colab-badge.svg\" alt=\"Open In Colab\"/></a>"
      ]
    },
    {
      "cell_type": "code",
      "execution_count": null,
      "metadata": {
        "colab": {
          "base_uri": "https://localhost:8080/"
        },
        "id": "0QcX4pyTKcyh",
        "outputId": "c49246a4-6fce-47e1-c24c-39c476be733c"
      },
      "outputs": [
        {
          "output_type": "stream",
          "name": "stdout",
          "text": [
            "2.15.0\n"
          ]
        }
      ],
      "source": [
        "import tensorflow as tf\n",
        "\n",
        "print(tf.__version__)"
      ]
    },
    {
      "cell_type": "code",
      "source": [
        "# Load the Fashion MNIST dataset\n",
        "fmnist = tf.keras.datasets.fashion_mnist"
      ],
      "metadata": {
        "id": "RpS4guoiLSs3"
      },
      "execution_count": null,
      "outputs": []
    },
    {
      "cell_type": "code",
      "source": [
        "class myCallback(tf.keras.callbacks.Callback):\n",
        "  def on_epoch_end(self, epoch, logs={}):\n",
        "    '''\n",
        "    Halts the training when the loss falls below 0.4\n",
        "\n",
        "    Args:\n",
        "      epoch (integer) - index of epoch (required but unused in the function definition below)\n",
        "      logs (dict) - metric results from the training epoch\n",
        "    '''\n",
        "\n",
        "    # Check the loss\n",
        "    if(logs.get('loss') < 0.4):\n",
        "\n",
        "      # Stop if threshold is met\n",
        "      print(\"\\nLoss is lower than 0.4 so cancelling training!\")\n",
        "      self.model.stop_training = True\n",
        "\n",
        "# Instantiate class\n",
        "callbacks = myCallback()"
      ],
      "metadata": {
        "id": "5McClDh1ngQK"
      },
      "execution_count": null,
      "outputs": []
    },
    {
      "cell_type": "code",
      "source": [
        "# Load the training and test split of the Fashion MNIST dataset\n",
        "(training_images, training_labels), (test_images, test_labels) = fmnist.load_data()"
      ],
      "metadata": {
        "colab": {
          "base_uri": "https://localhost:8080/"
        },
        "id": "F4xo7A7aLZSQ",
        "outputId": "112b57dd-e498-481e-ba57-2c2a20568b93"
      },
      "execution_count": null,
      "outputs": [
        {
          "output_type": "stream",
          "name": "stdout",
          "text": [
            "Downloading data from https://storage.googleapis.com/tensorflow/tf-keras-datasets/train-labels-idx1-ubyte.gz\n",
            "29515/29515 [==============================] - 0s 0us/step\n",
            "Downloading data from https://storage.googleapis.com/tensorflow/tf-keras-datasets/train-images-idx3-ubyte.gz\n",
            "26421880/26421880 [==============================] - 0s 0us/step\n",
            "Downloading data from https://storage.googleapis.com/tensorflow/tf-keras-datasets/t10k-labels-idx1-ubyte.gz\n",
            "5148/5148 [==============================] - 0s 0us/step\n",
            "Downloading data from https://storage.googleapis.com/tensorflow/tf-keras-datasets/t10k-images-idx3-ubyte.gz\n",
            "4422102/4422102 [==============================] - 0s 0us/step\n"
          ]
        }
      ]
    },
    {
      "cell_type": "code",
      "source": [
        "import numpy as np\n",
        "import matplotlib.pyplot as plt\n",
        "\n",
        "# You can put between 0 to 59999 here\n",
        "index = 555\n",
        "\n",
        "# Set number of characters per row when printing\n",
        "np.set_printoptions(linewidth=320)\n",
        "\n",
        "# Print the label and image\n",
        "print(f'LABEL: {training_labels[index]}')\n",
        "print(f'\\nIMAGE PIXEL ARRAY:\\n {training_images[index]}')\n",
        "\n",
        "# Visualize the image\n",
        "plt.imshow(training_images[index])"
      ],
      "metadata": {
        "colab": {
          "base_uri": "https://localhost:8080/",
          "height": 1000
        },
        "id": "xCeFM98LLlE_",
        "outputId": "fed930ba-948c-487c-f98d-c1967b89255b"
      },
      "execution_count": null,
      "outputs": [
        {
          "output_type": "stream",
          "name": "stdout",
          "text": [
            "LABEL: {training_labels[index]}\n",
            "\n",
            "IMAGE PIXEL ARRAY:\n",
            " [[  0   0   1   0   0   0   1   0   0   0  36 137  59  43  24  24  44 107 102   0   0   0   2   0   0   1   0   0]\n",
            " [  0   0   1   0   0   1   1   0 145 151  57 240 188 194 211 204 205 189 243  59   4   0   0   1   0   1   0   0]\n",
            " [  0   0   0   0   0   4   0  37 243  72   0 208 210 178 162 149 161 199 138  56 200 207   6   0   2   0   0   0]\n",
            " [  0   0   0   0   3   0   0 133 205 175 179 168 192 192 162 156 185 215 175 176 169 217  34   0   8   4   1   0]\n",
            " [  0   0   0   2   0   7 145 182 205 218 242 225 221 230 119 160 221 216 255 235 231 227  60   0   2   1   1   0]\n",
            " [  0   0   1   0   0 182 176 136 129 141 190 202 197 204 147 188 186 179 166 157 153 162 204  89   0   0   0   0]\n",
            " [  0   0   3   0  89 206 159 151 179 141 128 137 133 156 160 151 134 147 143 153 145 168 166 230  24   0   1   0]\n",
            " [  0   0   3   0 176 199 198 156 161 171 148 149 158 155 143 157 161 155 155 167 160 196 180 217 135   0   1   0]\n",
            " [  0   0   0   4 177 196 209 170 157 160 149 155 154 167  96 157 155 151 166 158 160 208 211 206 180   0   4   0]\n",
            " [  0   0   0  45 200 182 215 191 160 165 146 147 155 172  97 169 167 177 164 168 179 225 213 194 223   0   0   0]\n",
            " [  0   0   0  99 198 180 199 192 161 182 153 157 157 168 107 177 169 164 161 168 192 229 213 195 209  23   0   0]\n",
            " [  0   0   0 164 184 188 202 217 196 171 166 164 165 172 138 178 155 151 188 189 205 227 222 198 201  62   0   0]\n",
            " [  0   0   0 200 172 194 212 216 195 174 180 166 186 174 135 188 162 194 204 205 207 223 229 195 196 102   0   0]\n",
            " [  0   0   1 211 169 191 218 210 204 196 172 200 179 172 116 186 180 190 197 208 202 236 222 191 206 155   0   0]\n",
            " [  0   0   8 217 167 186 219 212 205 195 204 176 177 172 146 177 174 174 188 197 192 233 226 190 202 178   0   0]\n",
            " [  0   0  29 219 166 178 222 217 197 200 177 160 184 186 164 195 166 179 186 191 201 237 223 189 196 204   0   0]\n",
            " [  0   0  52 221 167 176 227 222 198 204 177 191 197 177 158 209 188 168 192 194 199 236 213 185 195 217   0   0]\n",
            " [  0   0  78 220 169 174 230 221 200 198 199 209 180 178 150 188 211 192 199 195 190 231 215 181 196 220   0   0]\n",
            " [  0   0  94 216 170 167 225 226 198 209 204 182 180 177 166 187 187 207 200 200 199 232 216 179 195 222   0   0]\n",
            " [  0   0 103 213 172 169 223 237 204 209 202 189 188 190 161 199 190 189 200 204 208 233 212 180 194 226   0   0]\n",
            " [  0   0 113 209 169 172 221 235 199 209 205 192 199 175 158 198 197 209 210 202 202 233 217 189 202 230   0   0]\n",
            " [  0   0 117 202 174 190 229 232 204 210 212 200 202 179 145 196 172 190 212 202 201 233 216 201 212 229   0   0]\n",
            " [  0   0 104 221 160 198 232 226 198 212 211 204 192 175 156 209 200 194 197 209 207 227 213 207 212 235   0   0]\n",
            " [  0   0  63 221 184 199 200 207 212 208 201 189 198 194 156 201 190 184 197 200 213 230 225 205 220 197   0   0]\n",
            " [  0   0  18 215 218 223 169 162 215 210 202 205 188 181 166 194 198 191 201 213 215 180 235 226 231 138   0   0]\n",
            " [  0   0  13 201 168 198 128 198 211 207 205 209 201 174 147 212 180 212 213 210 215 148 167 171 164  58   0   0]\n",
            " [  0   0   0   0   0   0   0 237 237 225 217 200 209 192 164 207 204 205 210 220 249 149   0   0   0   0   5   0]\n",
            " [  0   0   0   0   3   1   0  28 103 144 170 169 171 151 153 186 177 174 158 129 120  48   0   4   2   3   0   0]]\n"
          ]
        },
        {
          "output_type": "execute_result",
          "data": {
            "text/plain": [
              "<matplotlib.image.AxesImage at 0x7b539015d990>"
            ]
          },
          "metadata": {},
          "execution_count": 14
        },
        {
          "output_type": "display_data",
          "data": {
            "text/plain": [
              "<Figure size 640x480 with 1 Axes>"
            ],
            "image/png": "[encoded data removed]"
          },
          "metadata": {}
        }
      ]
    },
    {
      "cell_type": "code",
      "source": [
        "# Normalize the pixel values of the train and test images\n",
        "training_images  = training_images / 255.0\n",
        "test_images = test_images / 255.0"
      ],
      "metadata": {
        "id": "BTmBlZ38LzX5"
      },
      "execution_count": null,
      "outputs": []
    },
    {
      "cell_type": "code",
      "source": [
        "# Build the classification model\n",
        "model = tf.keras.models.Sequential([tf.keras.layers.Flatten(input_shape=(28, 28)),\n",
        "                                    tf.keras.layers.Dense(512, activation=tf.nn.relu),\n",
        "                                    tf.keras.layers.Dense(10, activation=tf.nn.softmax)])"
      ],
      "metadata": {
        "id": "YYyK1OvtSBib"
      },
      "execution_count": null,
      "outputs": []
    },
    {
      "cell_type": "code",
      "source": [
        "# Declare sample inputs and convert to a tensor\n",
        "inputs = np.array([[1.0, 3.0, 4.0, 2.0]])\n",
        "inputs = tf.convert_to_tensor(inputs)\n",
        "print(f'input to softmax function: {inputs.numpy()}')\n",
        "\n",
        "# Feed the inputs to a softmax activation function\n",
        "outputs = tf.keras.activations.softmax(inputs)\n",
        "print(f'output of softmax function: {outputs.numpy()}')\n",
        "\n",
        "# Get the sum of all values after the softmax\n",
        "sum = tf.reduce_sum(outputs)\n",
        "print(f'sum of outputs: {sum}')\n",
        "\n",
        "# Get the index with highest value\n",
        "prediction = np.argmax(outputs)\n",
        "print(f'class with highest probability: {prediction}')"
      ],
      "metadata": {
        "colab": {
          "base_uri": "https://localhost:8080/"
        },
        "id": "MOoPS4DyV0WU",
        "outputId": "3457309e-ac3f-42c8-b08e-c585055bef0c"
      },
      "execution_count": null,
      "outputs": [
        {
          "output_type": "stream",
          "name": "stdout",
          "text": [
            "input to softmax function: [[1. 3. 4. 2.]]\n",
            "output of softmax function: [[0.0320586  0.23688282 0.64391426 0.08714432]]\n",
            "sum of outputs: 1.0\n",
            "class with highest probability: 2\n"
          ]
        }
      ]
    },
    {
      "cell_type": "code",
      "source": [
        "model.compile(optimizer = tf.optimizers.Adam(),\n",
        "              loss = 'sparse_categorical_crossentropy',\n",
        "              metrics=['accuracy'])\n",
        "\n",
        "model.fit(training_images, training_labels, epochs=10, callbacks=[callbacks])"
      ],
      "metadata": {
        "colab": {
          "base_uri": "https://localhost:8080/"
        },
        "id": "DPoRu6oxV1A0",
        "outputId": "56cf4290-e982-4d31-de95-95c316e97e0a"
      },
      "execution_count": null,
      "outputs": [
        {
          "output_type": "stream",
          "name": "stdout",
          "text": [
            "Epoch 1/10\n",
            "1875/1875 [==============================] - 15s 7ms/step - loss: 0.8913 - accuracy: 0.7070\n",
            "Epoch 2/10\n",
            "1875/1875 [==============================] - 12s 6ms/step - loss: 0.5558 - accuracy: 0.8016\n",
            "Epoch 3/10\n",
            "1875/1875 [==============================] - 13s 7ms/step - loss: 0.4951 - accuracy: 0.8255\n",
            "Epoch 4/10\n",
            "1875/1875 [==============================] - 13s 7ms/step - loss: 0.4624 - accuracy: 0.8362\n",
            "Epoch 5/10\n",
            "1875/1875 [==============================] - 13s 7ms/step - loss: 0.4411 - accuracy: 0.8442\n",
            "Epoch 6/10\n",
            "1875/1875 [==============================] - 13s 7ms/step - loss: 0.4261 - accuracy: 0.8491\n",
            "Epoch 7/10\n",
            "1875/1875 [==============================] - 12s 7ms/step - loss: 0.4128 - accuracy: 0.8541\n",
            "Epoch 8/10\n",
            "1875/1875 [==============================] - 14s 7ms/step - loss: 0.4021 - accuracy: 0.8576\n",
            "Epoch 9/10\n",
            "1870/1875 [============================>.] - ETA: 0s - loss: 0.3930 - accuracy: 0.8603\n",
            "Loss is lower than 0.4 so cancelling training!\n",
            "1875/1875 [==============================] - 13s 7ms/step - loss: 0.3931 - accuracy: 0.8602\n"
          ]
        },
        {
          "output_type": "execute_result",
          "data": {
            "text/plain": [
              "<keras.src.callbacks.History at 0x7b53662da320>"
            ]
          },
          "metadata": {},
          "execution_count": 51
        }
      ]
    },
    {
      "cell_type": "code",
      "source": [
        "# Evaluate the model on unseen data\n",
        "model.evaluate(test_images, test_labels)"
      ],
      "metadata": {
        "colab": {
          "base_uri": "https://localhost:8080/"
        },
        "id": "l5roL5gMXJI-",
        "outputId": "d93baf89-e454-4f2e-9d48-a67966109826"
      },
      "execution_count": null,
      "outputs": [
        {
          "output_type": "stream",
          "name": "stdout",
          "text": [
            "313/313 [==============================] - 2s 4ms/step - loss: 0.4238 - accuracy: 0.8506\n"
          ]
        },
        {
          "output_type": "execute_result",
          "data": {
            "text/plain": [
              "[0.4238153398036957, 0.850600004196167]"
            ]
          },
          "metadata": {},
          "execution_count": 52
        }
      ]
    },
    {
      "cell_type": "code",
      "source": [
        "classifications = model.predict(test_images)\n",
        "\n",
        "print(classifications[0])"
      ],
      "metadata": {
        "colab": {
          "base_uri": "https://localhost:8080/"
        },
        "id": "NLRo6LmHYfsp",
        "outputId": "84442331-78e7-4f05-d0fa-1e3df421ac71"
      },
      "execution_count": null,
      "outputs": [
        {
          "output_type": "stream",
          "name": "stdout",
          "text": [
            "313/313 [==============================] - 1s 2ms/step\n",
            "[1.1320708e-06 2.7678476e-07 1.4030529e-07 3.2060058e-08 4.1845098e-07 7.4065171e-02 6.9210778e-06 1.7021576e-01 1.0225208e-05 7.5569993e-01]\n"
          ]
        }
      ]
    },
    {
      "cell_type": "code",
      "source": [
        "print(test_labels[0])"
      ],
      "metadata": {
        "colab": {
          "base_uri": "https://localhost:8080/"
        },
        "id": "kGI7Q2-cZSyr",
        "outputId": "b63ce6f3-f5e0-4843-ff7c-d298a94ecc0d"
      },
      "execution_count": null,
      "outputs": [
        {
          "output_type": "stream",
          "name": "stdout",
          "text": [
            "9\n"
          ]
        }
      ]
    },
    {
      "cell_type": "code",
      "source": [],
      "metadata": {
        "id": "NLg-VyozZXS4"
      },
      "execution_count": null,
      "outputs": []
    }
  ]
}